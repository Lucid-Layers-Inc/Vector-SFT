{
 "cells": [
  {
   "cell_type": "code",
   "execution_count": 1,
   "id": "4531d418",
   "metadata": {},
   "outputs": [
    {
     "data": {
      "application/vnd.jupyter.widget-view+json": {
       "model_id": "d49bf5647b3041f2b292873739f671ef",
       "version_major": 2,
       "version_minor": 0
      },
      "text/plain": [
       "Loading checkpoint shards:   0%|          | 0/2 [00:00<?, ?it/s]"
      ]
     },
     "metadata": {},
     "output_type": "display_data"
    }
   ],
   "source": [
    "from transformers import AutoModelForCausalLM\n",
    "from src.sae.model import SAE\n",
    "\n",
    "model = AutoModelForCausalLM.from_pretrained(\"ExplosionNuclear/Llama-2.3-3B-Instruct-special\")\n",
    "\n",
    "p = next(model.parameters()); d = model.config.hidden_size\n",
    "sae_attn = SAE(d, 4096).to(p.device, dtype=p.dtype)\n",
    "sae_mlp  = SAE(d, 4096).to(p.device, dtype=p.dtype)\n"
   ]
  },
  {
   "cell_type": "code",
   "execution_count": 42,
   "id": "6df1f8d3",
   "metadata": {},
   "outputs": [],
   "source": [
    "model\n",
    "saes = {\"1_attn\": SAE(d, 4096), \"1_mlp\": SAE(d, 4096)}\n",
    "\n",
    "outputs = {\"1_attn\": [], \"1_mlp\": []}\n",
    "\n",
    "def make_hook(sae, name, inject=False):\n",
    "    def hook(mod, inp, out):\n",
    "        sae_reconstructed = sae(out[0])\n",
    "        outputs[name].append(sae_reconstructed)\n",
    "        return None if not inject else sae_reconstructed\n",
    "    return hook\n",
    "\n"
   ]
  },
  {
   "cell_type": "code",
   "execution_count": 43,
   "id": "38718cb5",
   "metadata": {},
   "outputs": [],
   "source": [
    "model.model.layers[1].self_attn._forward_hooks.clear()\n",
    "model.model.layers[1].mlp._forward_hooks.clear()"
   ]
  },
  {
   "cell_type": "code",
   "execution_count": 44,
   "id": "31d5d535",
   "metadata": {},
   "outputs": [
    {
     "data": {
      "text/plain": [
       "<torch.utils.hooks.RemovableHandle at 0x7f4b8024a350>"
      ]
     },
     "execution_count": 44,
     "metadata": {},
     "output_type": "execute_result"
    }
   ],
   "source": [
    "model.model.layers[1].self_attn.register_forward_hook(make_hook(saes[\"1_attn\"], \"1_attn\"))\n",
    "model.model.layers[1].mlp.register_forward_hook(make_hook(saes[\"1_mlp\"], \"1_mlp\"))\n",
    "\n"
   ]
  },
  {
   "cell_type": "code",
   "execution_count": 45,
   "id": "ef5b78ac",
   "metadata": {},
   "outputs": [],
   "source": [
    "from transformers import AutoTokenizer\n",
    "import torch\n",
    "\n",
    "tokenizer = AutoTokenizer.from_pretrained(\"ExplosionNuclear/Llama-2.3-3B-Instruct-special\")\n",
    "\n",
    "inputs = tokenizer(\"Hello, world!\", return_tensors=\"pt\")\n",
    "\n",
    "model.eval()\n",
    "\n",
    "out = model(**inputs)"
   ]
  },
  {
   "cell_type": "code",
   "execution_count": 46,
   "id": "d5fec323",
   "metadata": {},
   "outputs": [
    {
     "data": {
      "text/plain": [
       "[tensor([[[ 0.0023, -0.0024, -0.0013,  ...,  0.0019, -0.0012, -0.0015],\n",
       "          [ 0.0036, -0.0016, -0.0003,  ...,  0.0018, -0.0040, -0.0063],\n",
       "          [-0.0053, -0.0032,  0.0012,  ..., -0.0007,  0.0003, -0.0040],\n",
       "          [ 0.0015, -0.0059, -0.0095,  ...,  0.0061, -0.0023, -0.0040],\n",
       "          [ 0.0063,  0.0005, -0.0009,  ...,  0.0039,  0.0006, -0.0039]]],\n",
       "        grad_fn=<UnsafeViewBackward0>)]"
      ]
     },
     "execution_count": 46,
     "metadata": {},
     "output_type": "execute_result"
    }
   ],
   "source": [
    "outputs[\"1_attn\"]"
   ]
  },
  {
   "cell_type": "code",
   "execution_count": null,
   "id": "84c62245",
   "metadata": {},
   "outputs": [],
   "source": []
  }
 ],
 "metadata": {
  "kernelspec": {
   "display_name": "Python 3 (ipykernel)",
   "language": "python",
   "name": "python3"
  },
  "language_info": {
   "codemirror_mode": {
    "name": "ipython",
    "version": 3
   },
   "file_extension": ".py",
   "mimetype": "text/x-python",
   "name": "python",
   "nbconvert_exporter": "python",
   "pygments_lexer": "ipython3",
   "version": "3.10.12"
  }
 },
 "nbformat": 4,
 "nbformat_minor": 5
}
