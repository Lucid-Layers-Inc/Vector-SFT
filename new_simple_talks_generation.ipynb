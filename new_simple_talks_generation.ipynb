{
 "cells": [
  {
   "cell_type": "code",
   "execution_count": 1,
   "id": "c90b118b-e8dd-4ae8-b272-bd7ed3a53f4e",
   "metadata": {},
   "outputs": [
    {
     "name": "stdout",
     "output_type": "stream",
     "text": [
      "INFO 07-12 15:55:50 __init__.py:186] Automatically detected platform cuda.\n"
     ]
    }
   ],
   "source": [
    "from vllm import LLM\n",
    "from vllm import SamplingParams\n",
    "\n",
    "sampling_params = SamplingParams(\n",
    "    temperature = 0.7,\n",
    "    max_tokens = 300,\n",
    "    top_p = 0.9, \n",
    "    stop = [\"</end>\"]\n",
    ")"
   ]
  },
  {
   "cell_type": "code",
   "execution_count": 2,
   "id": "fe4a7747-dcb1-4eec-9beb-81e468e6aca8",
   "metadata": {},
   "outputs": [],
   "source": [
    "topics = \"Stellar Evolution, Cellular Processes, Pedagogical Methods, Molecular Bonding, Newtonian Mechanics, Abstract Algebra, Ancient Civilizations, Topographical Analysis, Narrative Structures, Existentialist Thought, Harmonic Progression, Impressionist Painting, Technological Adoption Cycles, Algorithm Complexity, Object-Oriented Design, Agile Development Lifecycle, Supply and Demand Curves, Portfolio Management, Comparative Government, Cognitive Biases, Social Stratification, Phonetic Transcription, Diagnostic Procedures, Structural Integrity Analysis, Ecosystem Dynamics, Ethnographic Studies, Radiocarbon Dating Methods, Sustainable Building Design, Black Hole Physics, Plate Tectonics Theory, Weather Forecasting Models, Marine Ecosystems Analysis, Animal Behavior Studies, Plant Photosynthesis, DNA Sequencing Techniques, Enzyme Kinetics, Viral Replication Cycles, Vaccine Development, Drug Metabolism, Neural Synaptic Transmission, Quantum Entanglement, Spacetime Curvature, The Laws of Thermodynamics, Maxwell's Equations, Turbulent Fluid Flow, Semiconductor Physics, The Standard Model of Particle Physics, The Big Bang Theory, Predictive Data Modeling, Supervised Learning, Neural Network Architectures, Convolutional Neural Networks, Sentiment Analysis, Object Recognition in Images, Autonomous Robot Navigation, Cybersecurity Threat Analysis, Public-Key Encryption, Information Entropy, Relational vs. NoSQL Databases, Cloud Infrastructure Services, Operating System Kernels, TCP/IP Protocol Suite, Sorting and Searching Algorithms, Hash Table Implementation, Compiler Design, Software Quality Assurance, User Experience (UX) Design, Immersive VR Environments, Real-world Data Overlays, Game Engine Mechanics, Native Mobile App Development, Front-End Web Frameworks, IoT Sensor Networks, Decentralized Applications (dApps), Content Marketing, Search Engine Ranking Factors, Social Media Engagement, Typography in Design, 2D and 3D Animation Techniques, Post-Production Video Effects, Photographic Composition, Film Genre Analysis, Theatrical Stagecraft, Dance Composition, Poetic Meter and Form, Narrative Craft, Fictional World-Building, Expository Writing, Investigative Journalism, Media Influence Theories, Interpersonal Communication Skills, Crisis Management PR, Brand Strategy, Business Operations Management, New Venture Creation, Talent Acquisition and Management, Workplace Culture, Corporate Strategy Formulation, Logistics and Distribution, Project Lifecycle Management, Statistical Modeling, Bayesian Probability, Differential and Integral Calculus, Polynomial Equations, Euclidean Geometry, Point-Set Topology, Prime Number Theory, Combinatorial Logic, Theory of Sets, Network Flow Analysis, Enumerative Combinatorics, Solving Partial Differential Equations, Matrix Algebra, Nash Equilibrium, Optimization Problems, Mathematical Simulation, Numerical Analysis, Statistical Analysis in Biology, Tracking Disease Outbreaks, Community Health Initiatives, Macronutrients and Micronutrients, Athlete Performance Analysis, Human Movement Studies, Cardiorespiratory Physiology, Yoga Poses and Breathing, Mindfulness Meditation Practices, Focused Awareness Techniques, Personal Improvement Strategies, Goal-Setting and Achievement, Leadership Theories, Productivity Hacks, Career Path Planning, Diversified Investment Portfolios, Real Estate Investment Trusts (REITs), Stock Market Analysis, The Function of Cryptocurrencies, Economic Growth Models, Foreign Policy, The Effects of Globalization, Pop Culture Analysis, Feminist and Queer Theory, Issues of Systemic Inequality, Deontology and Utilitarianism, Comparative World Religions, Systematic Theology, Archetypes in Mythology, Oral Traditions in Folklore, Language and Social Identity, Indigenous Peoples' Rights, Disability Advocacy, The Ethics of Conservation, The Circular Economy, Renewable Energy Sources, Photovoltaic Cell Technology, Wind Turbine Design, Hydroelectric Power Generation, Nuclear Fission Power, The Impact of Fossil Fuels, Global Warming Phenomena, Preserving Biological Diversity, Endangered Species Protection, Ecological Niche Theory, Sustainable Urban Development, Rural Economic Strategies, Public Transit Systems, Infrastructure Engineering, Mechanical Systems Design, Electrical Circuit Theory, Chemical Reaction Engineering, Aircraft and Spacecraft Design, Production Systems Optimization, Advanced Material Properties, Nanoscale Engineering, Applied Biotechnology, Recombinant DNA Technology, Medical Device Development, Fiber Optics, Building Stability Analysis, Waste and Water Management, Agronomy, Food Chemistry, Advanced Cooking Techniques, Hotel and Restaurant Management, Sustainable and Adventure Tourism, Corporate Event Planning, Avant-Garde Fashion, Advanced Textile Manufacturing, Ergonomics in Interior Design, Public Park and Garden Design, Urban Renewal Projects, Printmaking and Lithography, Engraving and Etching, Sculpting Materials and Methods, Painting Media and Techniques, Observational Drawing, Ceramic Glazing, Modern Calligraphy Styles, Music Composition Theory, Orchestration, Vocal Performance, Digital Audio Production, Studio Recording Techniques, Musical Arrangement, The History of Opera, Jazz Improvisation, The Evolution of Rock Music, The Classical Symphony, The Structure of Pop Songs, The Art of MCing, Electronic Music Synthesis, Traditional Folk Songs, Fusion of Global Music Styles, The History of the Blues, Reggae Rhythms, Nashville Sound, The History of Western Music, Synthesizers and Samplers, Creating Dance Routines, Classical Ballet Technique, The Pioneers of Modern Dance, Breakdancing and Locking, Competitive Waltz and Tango, Traditional Ethnic Dances, The Evolution of Dance, The Auteur Theory in Film, Principles of Cinematography, The Art of Screenwriting, Film Pacing and Rhythm, Critical Film Theory, Observational Documentary Style, Stop-Motion and CGI Animation, The Role of a Film Producer, Independent Cinema Movements, The Craft of the Short Film, Major International Film Festivals, Theatrical Production Management, Stage Scenery Design, Interior Decoration for the Stage, Historical Costume Creation, Theatrical Lighting Effects, The History of World Theater, The Stanislavski Acting Method, Character Voice Over Work, Theatrical Improv Games, The Craft of Stand-Up, Writing for Stage and Screen, Deconstruction in Literature, Global Literary Traditions, Modernist Poetry, Analyzing Shakespeare's Plays, The Harlem Renaissance, The Victorian Novel, Post-Colonial Narratives, The Epic of Gilgamesh, The Hero's Journey Archetype, The Structure of Epic Poetry, The Use of Irony and Wit, Tropes of the Romance Genre, The Subgenres of Science Fiction, World-Building in Fantasy, The Classic Detective Story, Gothic and Psychological Horror, Authenticity in Historical Novels, The Hardboiled Detective, The Quest and Journey Narrative, The Art of the Graphic Novel, The New Journalism, The Art of the Memoir, The Structure of the Argumentative Essay, The Craft of Short Fiction, The Form of the Novella, Writing Critical Book Reviews, Feminist Literary Theory, The Practice of Literary Criticism, Post-structuralist Philosophy, The Philosophy of Being and Nothingness, The Study of Lived Experience, The Study of First Principles, The Nature of Knowledge and Belief, The Philosophy of Art and Beauty, Syllogisms and Logical Fallacies, Identifying Cognitive Biases, The Art of Persuasive Speech, Competitive Debating, The Art of Oratory, Forms of Artistic Expression, The Structure of a Narrative, Regional Folktales, Classic Fairy Tale Analysis, The Formation of Legends, The Morals in Fables, Interpreting Traditional Sayings, Viral Social Media Content, The Culture of Online Fandoms, The Lifecycle of an Internet Meme, Analysis of Online Subcultures, The Social Dynamics of Virtual Worlds, The World of Competitive Gaming, Professional Esports Leagues, The Rise of Streaming Services, The Art of the Narrative Podcast, The Evolution of Blogging, The Creator Economy and Vlogging, Social Media Influencer Strategies, Digital Content Strategy, The Medium of Digital Painting, Vector Art and Illustration, Creating Art in Augmented Reality, 3D Asset Creation, Social VR Platforms, The Aesthetics of Cyberpunk, Star Trek and Sci-Fi Fandoms, The Study of Future Trends, The Concept of Artificial Superintelligence, The Automation of Labor, Software Bots in Business, The Ecosystem of Wearable Tech, Home IoT Devices, Phishing and Malware Prevention, The Practice of Penetration Testing, The Science of Digital Investigation, Analyzing Malicious Software, The SDLC Waterfall Model, The Principles of the Agile Manifesto, The DevOps Culture, CI/CD Pipelines, Designing with Microservices, Building RESTful Web Services, The GraphQL Query Language, Real-Time Data Streaming, Function-as-a-Service (FaaS) Platforms, The Hadoop Ecosystem, Techniques in Data Mining, Interactive Data Dashboards, Using Data for Business Decisions, Enterprise-Level Software Solutions, CRM Platform Management, ERP System Implementation, Business Process Modernization, Fostering a Culture of Innovation, Venture Capital Investment, The Startup Lifecycle, Kickstarter and Crowdfunding Models, Corporate Risk Mitigation, Capital Structure and Budgeting, Mergers & Acquisitions, The Function of Financial Markets, Classical vs. Keynesian Economics, The Study of National Economies, The Theory of the Firm, The Psychology of Financial Decisions, International Trade and Finance, The Role of Tariffs and Quotas, Global Poverty and Development, The Process of Policymaking, The Study of Government Systems, The Sociology of Law, The Study of Criminal Behavior, Crime Scene Analysis Techniques, The Law of Armed Conflict, The Universal Declaration of Human Rights, The History of the Civil Rights Movement, National Immigration Laws, The Study of Urban Life, Clinical Social Work, Grassroots Community Building, The Structure of Public Agencies, The Evaluation of Public Policies, The Economics of Healthcare, The Design of Educational Curricula, The Study of Labor Markets, Vocational Training Programs, Natural Disaster Preparedness, Corporate Crisis Response, Emergency Medical Services, Methods of Conflict De-escalation, The Art of Negotiation, The Role of a Mediator in Disputes, The Practice of International Diplomacy, The Theory of Political Realism, International Governmental Organizations, The Study of Geopolitical Power, Analysis of National Security, The Study of Military Doctrine, The History of Warfare, Unconventional Warfare Tactics, The Development of Defense Systems, The Treaty on the Non-Proliferation of Nuclear Weapons, International Disarmament Treaties, The Study of Peace and Conflict, Threats to International Stability, The Use of Soft Power, Communicating Across Cultures, The Challenges of Translation, The Process of Language Learning, The Grammar of Sign Languages, The Use of AI in Linguistics, The Craft of Dictionary-Making, The Historical Roots of Words, The Interpretation of Symbols, The Art of Literary Translation, A Comparative Study of Governments, The Political Theories of John Locke, The Relationship Between State and Economy, Types of Electoral Formulas, The Study of Voter Psychology, The Measurement of Public Opinion, The Role of Citizens in Democracy, The Study of Protest Movements, The Methods of Social Activism, The Strategy of Community Organizing, The Power of Grassroots Activism, The Management of NGOs, The Social Impact of Volunteering, The Role of Large-Scale Philanthropy, The Function of Charitable Giving, Ventures for Social Change, Socially Responsible Investing, The Triple Bottom Line, The Principles of Sustainable Living, Municipal Waste Systems, The Process of Material Recycling, The Conservation of Water, The Monitoring of Air Pollutants, The Science of Soil Health, Analysis of Geographic Data, The Use of Satellite Remote Sensing, The Craft of Modern Cartography, The Application of GIS, The Study of Urban Wildlife, The Sociology of Rural Areas, The Study of Population Trends, Human Population Growth and Decline, The Study of Human Migration, The Interaction of Humans and Their Environment, The Geography of Business and Trade, The Study of Borders and Territories, The Spatial Distribution of Culture, The Geography of Past Events, The Study of Ecological Patterns, The Interaction of Humans and Nature, The Long-Term Study of Climate, The Physics and Chemistry of the Atmosphere, The Management of Renewable Resources, The Principles of Sustainable Farming, The Methods of Organic Agriculture, The Design of Permaculture Systems, The Practice of Fish Farming, The Care and Breeding of Domestic Animals, The Practice of Animal Medicine, The Science of Plant Disease, The Cultivation of Plants, The Management of Forest Resources, The Protection of Wildlife, The Making of Environmental Laws, The Formulation of Energy Policy, The Exploration of the Solar System, The Technology of Satellites, The Science of Rocket Propulsion, The Search for Extraterrestrial Intelligence (SETI), The Discovery of Exoplanets, The Concept of Interstellar Voyages, The Colonization of Other Planets, The Study of Health in Space, The International Law of Space, The Scientific Study of Planets, The Search for Life Beyond Earth, The Use of Supercomputers, The Design of Parallel Algorithms, The Architecture of Distributed Computing, The Principles of Quantum Information, Computing on Edge Devices, The Process of 3D Rendering, The Field of Image Analysis, The Processing of Digital Signals, The Technology of Speech-to-Text, The Function of Virtual Assistants, The Technology of Conversational AI, The Generation of Text by AI, The Algorithms Behind Recommender Engines, The Technology of Self-Driving Cars, The Use of Unmanned Aerial Vehicles, The Concept of the Smart City, The Future of Urban Transportation, The Field of Supply Chain Logistics, The Management of Warehouse Operations, The Control of Inventory, The Processes of Industrial Manufacturing, The Use of Robots in Industry, The Practice of Quality Assurance, The Six Sigma Improvement Process, The Principles of Lean Production, The Use of Data in Supply Chains, The System of Global Commerce, The History of Economic Systems, The Impact of Technological Change, The FIFA World Cup, The National Basketball Association, Major League Baseball, The National Football League, The Grand Slam Tournaments in Tennis, The Major Championships in Golf, International Test Cricket, The Rugby World Cup, The National Rugby League, Olympic Volleyball, The Sport of Ping-Pong, The National Hockey League, International Field Hockey, Olympic Figure Skating, Olympic Speed Skating, The Skiing World Cup, X Games Freestyle Skiing, The Vasaloppet Cross-Country Ski Race, The Olympic Biathlon, The Sport of Luge Sledding, The Sport of Skeleton Sledding, The Olympic Bobsled Competition, The IFSC Climbing World Cup, Olympic Weightlifting, The Mr. Olympia Bodybuilding Competition, The CrossFit Games, The Sport of Freerunning, World DanceSport Championships, The Sport of Roller Derby, Kitesurfing and Hydrofoiling, The Professional Windsurfing Tour, PADI Scuba Certification, Recreational Snorkeling, The Sport of Stand-Up Paddleboarding, Sea and River Kayaking, Canadian Canoeing, University Rowing Competitions, The America's Cup Sailing Race, National Cheerleading Championships, Professional Skateboarding (Street League), BMX Vert and Street Competitions, UCI Mountain Bike World Cup, The Sport of Ice Climbing, The Red Bull X-Alps Paragliding Race, The World Hang Gliding Championships, Formation Skydiving, The Practice of Bungee Jumping, The World Orienteering Championships, The Ironman Triathlon, The Boston Marathon, The Rise of Indie Rock, The Grunge Movement of the 90s, The Anarcho-Punk Scene, The New Wave of British Heavy Metal, The History of Heavy Metal, The Florida Death Metal Scene, Norwegian Black Metal, The Music of Pink Floyd and Yes, The Ambient Works of Brian Eno, The Music of John Cage, The Seattle Grunge Sound, The New Romantics and Synth-pop, The C86 Indie Pop Scene, The Evolution of R&B, The Stax and Motown Sound, The Funk Music of George Clinton, The Disco Era, The Origins of Detroit Techno, The Warehouse and Chicago House, The Genre of Psychedelic Trance, The Emergence of Dubstep, The Jungle and Drum and Bass Scene, The Global Rise of Reggaeton, The K-pop Idol System, The Shibuya-kei Genre of J-pop, The Mandopop Music Scene, The Diversity of Latin American Music, The Dance of Salsa, The Rhythm of Merengue, The Music of the Dominican Republic, The Sound of Mexican Mariachi Bands, The Art of Flamenco, The Music of Southwest Louisiana, The Sound of Appalachian Music, The Creole Music of Louisiana, The History of Gospel Music, The Genre of Classical Crossover, The CCM Industry, The Nu-Folk Movement, The Genre of Electro Swing, The Aesthetics of Vaporwave, The Lo-fi Hip-Hop Radio Phenomenon, The Genre of Chillhop Music, The Art of Instrumental Hip-Hop, The Craft of Knitting, The Art of Crocheting, The Skill of Sewing, The Art of Embroidery, The Craft of Quilting, The Hobby of Scrapbooking, The Japanese Art of Paper Folding, The Hobby of Scale Modeling, The Joy of Solving Puzzles, The Hobby of Card Collecting, The Hobby of Stamp Collecting, The Hobby of Coin Collecting, The Craft of Woodworking, The Skill of Metalworking, The Art of Pottery, The Craft of Candle Making, The Art of Soap Making, The Practice of Gardening, The Art of Bonsai, The Hobby of Birdwatching, The Craft of Building Terrariums, The Hobby of Geocaching, The Hobby of Model Railroading, The Hobby of RC Vehicles, The Hobby of Flying Drones, The Art of Performing Magic, The Skill of Juggling, The World of DIY Home Projects, The Craft of Brewing Beer, The Art of Wine Tasting, The Science of Cooking, The Art of Baking, The Craft of Mixology, The Art of Fermenting Foods, The Practice of Calisthenics, The Craft of Building Birdhouses, The Sport of Fishing, The Practice of Hunting, The Joy of Camping, The Hobby of Hiking, The Adventure of Backpacking, The Art of Rock Balancing, The Practice of Beekeeping, The Hobby of Mushroom Hunting, The Art of Astrophotography, The Craft of Painting Miniatures, The Art of Designing Puzzles, The World of Lego Building, The Culture of Cosplay, The World of Tabletop RPGs, The Hobby of Board Gaming, The Hobby of Card Gaming, The Genre of Puzzle Video Games, The World of Video Game Streaming, The Art of Speedrunning, The Role of Esports Commentating, The Fun of Trivia Nights, The Game of Chess, The Game of Checkers, The Strategy of Go, The Game of Bridge, The Game of Poker, The Game of Blackjack, The Game of Magic: The Gathering, The World of Dungeons & Dragons, The Lore of Warhammer 40K, The Hobby of Miniatures Wargaming, The World of LARPing, The Hobby of Building Model Airplanes, The Art of Scrap Metal Sculpture, The Craft of Knifemaking, The Art of Leather Crafting, The Practice of Calligraphy, The Art of Digital Drawing, The World of 3D Printing, The Art of Soap Carving, The Craft of Paper Mache, The Art of Stained Glass, The Art of Flower Arranging, The Experience of Backpacking, The Principles of Ecotourism, The Joy of Cultural Tourism, The Thrill of Adventure Travel, The Classic American Road Trip, The Art of Travel Photography, The World of Culinary Travel, The Experience of Luxury Travel, The Art of Budget Travel, The Freedom of Solo Travel, The Life of a Digital Nomad, The World's Most Scenic Train Journeys, The Experience of a Cruise Vacation, The Exploration of National Parks, The Importance of World Heritage Sites, The Touring of UNESCO Sites, The Hobby of Urban Exploration, The Charm of Rural Tourism, The Adventure of a Safari, The Challenge of Mountain Climbing, The Experience of a Desert Expedition, The Joy of Island Hopping, The Fun of a Ski Resort Getaway, The Relaxation of a Beach Holiday, The Excitement of a City Break, The World of E-commerce, The Life of a Digital Entrepreneur, The Art of Social Media Advertising, The Business of Franchise Management, The Importance of Business Ethics, The Principles of Corporate Governance, The Practice of Market Research, The Study of Consumer Behavior, The Art of Sales, The World of Retail Management, The Use of Business Analytics, The Art of Negotiation, The Management of Conflict in Business, The Drive for Business Innovation, The Practice of Crisis Management in Business, The Importance of Customer Experience, The Art of Brand Management, The Creation of New Business Models, The World of Franchising, The Use of Outsourcing in Business, The Art of Business Strategy, The Practice of Risk Assessment in Business, The World of International Business, The Fundamentals of Corporate Finance, The Role of Startup Ecosystems, The World of Venture Capital, The Power of Crowdfunding, The Importance of Corporate Compliance, The Process of Digital Transformation, The World of Strategic Business Consulting, The Design of Embedded Systems, The Function of Internet Protocols, The Use of Virtual Machines, The Power of Containerization, The Practice of DevSecOps, The Paradigms of Functional Programming, The Concepts of Object-Oriented Programming, The World of Reactive Programming, The Patterns of Software Architecture, The Design of Microkernels, The Architecture of Servers, The Applications of Edge AI, The Use of Digital Twin Technology, The Power of 5G Networks, The Future of 6G, The Navigation of Autonomous Drones, The World of Augmented Analytics, The Innovation of Wearable Devices, The Creation of Smart Grids, The World of Cyber-Physical Systems, The Techniques of Digital Signal Processing, The Business of Software as a Service (SaaS), The World of Platform as a Service (PaaS), The Power of Infrastructure as a Service (IaaS), The Management of IT Services, The Protocols of Network Security, The Techniques of Penetration Testing, The Tools of Blockchain Development, The Power of Smart Contracts, The World of Decentralized Finance (DeFi), The Innovations of Fintech, The Promise of Quantum Cryptography, The Strategies of Software Localization, The Standards of Digital Accessibility, The Solutions of Assistive Technology, The World of Mobile App Development, The Power of Progressive Web Applications, The Design of Voice User Interfaces, The World of Natural User Interfaces, The Solutions of Data Warehousing, The Automation of Business Processes, The Power of Robotic Process Automation (RPA), The Design of Information Architecture, The Importance of User Experience (UX) Design, The Craft of User Interface (UI) Design, The Tools of Prototyping, The Methods of Agile Coaching, The Methodologies of Scrum, The Systems of Kanban, The Management of Information Systems, The Physics of Biology, The Biology of the Ocean, The Ecology of Behavior, The Study of Prehistoric Life, The Study of Viral Diseases, The Study of Parasitic Organisms, The Anthropology of Forensics, The Biology of Structures, The Biology of Computation, The Genetics of Pharmacology, The Genomics of Nutrition, The Microbiology of the Environment, The Physiology of Ecology, The Microbiology of the Soil, The Technology of Medical Imaging, The Analysis of Biological Information, The Study of Complete Gene Sets, The Study of Complete Protein Sets, The Study of Metabolic Processes, The Biology of Cold Temperatures, The History of Ancient Rome, The History of the Middle Ages, The Art of the Renaissance, The Music of the Baroque Era, The History of Colonialism, The History of the Industrial Revolution, The History of the First World War, The History of the Second World War, The History of the Cold War, The History of Democratic Systems, The History of Scientific Discovery, The History of Technological Advancement, The History of Medical Progress, The History of Western Philosophy, The Anthropology of Culture, The Practice of Oral History, The Study of Historical Writing, The Methods of Archaeology, The Mythology of Ancient Greece, The Literature of the Medieval Period, The Movements of Modern Art, The Study of Art History, The History of Building Design, The History of Musical Styles, The History of Athletic Competitions, The History of Clothing Styles, The History of Filmmaking, The History of Theatrical Performance, The History of Dance Forms, The History of Economic Thought, The History of Legal Systems, The Study of Historical Maps, The Study of Family History, The Preservation of Cultural Heritage, The History of Educational Systems, The Comparison of Mythologies, The Study of Literary Translation, The Genre of Children's Books, The Genre of Young Adult Novels, The Medium of Graphic Novels, The Literature of Postcolonialism, The Use of Satire in Literature, The Poetry of the Romantic Era, The Form of Epic Poems, The Art of Writing Short Stories, The Genre of Creative Nonfiction, The Prestige of Literary Prizes, The Culture of Literary Festivals, The Poetry of Different Cultures, The Theory of Language Translation, The Importance of Linguistic Diversity, The Study of Endangered Languages, The Linguistics of Sign Languages, The Comparison of Language Families, The Preservation of Languages, The Revitalization of Languages, The Benefits of Multilingual Education, The Study of Regional Dialects, The Formation of Cultural Identity, The Study of Urban Subcultures, The Movements of Counterculture, The Art of the Street, The Art of Graffiti, The Trends of Digital Culture, The Study of Suburban Life, The Study of Diaspora Communities, The Rights of Indigenous Peoples, The Study of Ethnic Groups, The Concept of Multicultural Societies, The Effects of Economic Globalization, The Policies of Culture, The Study of Ritualistic Behavior, The Analysis of Ceremonies, The Study of Folklife, The Celebration of Cultural Festivals, The Practice of Traditional Crafts, The Cuisine of Different Cultures, The Traditions of Culinary Arts, The Revival of Folk Music, The Maintenance of Heritage Languages, The Biology of Wildlife, The Policies of Conservation, The Assessment of Environmental Impacts, The Restoration of Ecosystems, The Conservation of Marine Life, The Management of Forests, The Practice of Sustainable Forestry, The Creation of Urban Green Spaces, The Treatment of Wastewater, The Use of Renewable Materials, The Technology of Carbon Capture, The Modeling of Climate Change, The Acidification of the Oceans, The Study of Glacial Ice, The Research of the Polar Regions, The Geology of the Environment, The Planning of Land Use, The Monitoring of the Environment, The Law of Environmental Protection, The Transportation of the Future, The Signs of the Zodiac, The Meaning of Numbers in Numerology, The Study of Parapsychological Phenomena, The Study of Unidentified Flying Objects, The Search for Cryptids, The Spread of Urban Legends, The Lore of Mythical Creatures, The Belief in Supernatural Events, The Study of Conspiracy Theories, The Study of the Occult, The Traditions of Esotericism, The Genre of Magical Realism, The Aesthetic of Steampunk, The Vision of Solarpunk, The Style of Dieselpunk, The Concepts of Biopunk, The Movement of Afrofuturism, The Look of Retro-Futurism, The Art of Street Photography, The World of Fashion Photography, The Power of Documentary Photography, The Detail of Macro Photography, The Beauty of Wildlife Photography, The Challenge of Underwater Photography, The Art of Digital Music Production, The Practice of Biohacking, The Hobby of DIY Electronics, The World of Arduino Projects, The Versatility of Raspberry Pi, The Concept of the Internet of Bodies, The Technology of Brain-Computer Interfaces, The Field of Neurotechnology, The Innovation of Smart Textiles, The Principles of Sustainable Architecture, The Process of Urban Renewal, The Field of Digital Humanities, The Science of Computational Social Studies, The Analysis of Social Networks, The Simulation of Crowds, The Analysis of Spatial Data, The Applications of Remote Sensing, The Art of Digital Cartography, The Observation of Earth, The Analysis of Satellite Imagery, The Analysis of Climate Policies, The Economics of the Environment, The World of Indie Filmmaking, The Art of Documentary Filmmaking, The Production of Animation, The Magic of Stop Motion Animation, The Technology of Motion Capture, The Techniques of Cinematography, The Art of Film Scoring, The Composition of Soundtracks, The Thrill of Live Theater, The Art of Stage Combat, The Fun of Improvisational Theater, The Joy of Musical Theater, The Grandeur of Opera Production, The Techniques of Set Design, The Trends of Costume Design, The Techniques of Lighting Design, The Art of Stage Makeup, The Magic of Visual Effects, The Art of Digital Compositing, The Design of Video Games, The Art of Level Design, The Sound Design of Games, The World of Interactive Storytelling, The Power of Transmedia Storytelling, The Production of Podcasts, The Art of Radio Drama, The Writing of Stand-Up Comedy, The Spontaneity of Improv Comedy, The Fun of Sketch Comedy, The Joy of Urban Gardening, The Science of Hydroponics, The System of Aquaponics, The Future of Vertical Farming, The Methods of Organic Pest Control, The Art of Food Preservation, The Creativity of Culinary Fusion, The Science of Molecular Gastronomy, The Art of Wine Making, The Craft of Cheese Making, The Joy of Bread Baking, The Culture of Tea, The World of Coffee Culture, The Art of Chocolate Making, The Importance of Diet and Lifestyle, The History of Cuisine, The Need for Sustainable Packaging, The Reduction of Food Waste, The World of Alternative Proteins, The Benefits of Plant-Based Diets, The Chemistry of Space, The Mechanics of Biomechanics, The Science of Cognition, The Study of Paleoclimates, The Economics of Behavior, The Geology of the Ocean\""
   ]
  },
  {
   "cell_type": "code",
   "execution_count": 3,
   "id": "babadccb-f717-407b-954e-09525055eb8d",
   "metadata": {},
   "outputs": [
    {
     "name": "stdout",
     "output_type": "stream",
     "text": [
      "994\n"
     ]
    }
   ],
   "source": [
    "from huggingface_hub import notebook_login\n",
    "import dotenv\n",
    "\n",
    "dotenv.load_dotenv()\n",
    "\n",
    "def extract_unique_topics(input_string):\n",
    "\n",
    "    topics = input_string.split(',')\n",
    "    topics = [topic.strip().lower() for topic in topics]\n",
    "    unique_topics = set(topics)\n",
    "\n",
    "    return sorted(list(unique_topics))\n",
    "\n",
    "result = extract_unique_topics(topics)\n",
    "\n",
    "print(len(result))"
   ]
  },
  {
   "cell_type": "code",
   "execution_count": 4,
   "id": "448d7f6a-905f-4e0a-9b5d-416734add03f",
   "metadata": {},
   "outputs": [
    {
     "name": "stdout",
     "output_type": "stream",
     "text": [
      "Talk about the algorithm complexity (no more then 7 sentences.). End your answer with </end>. No comments about the task. Just an answer. \n",
      "    For example if the topic is Moon, then your answer might be like \"The moon is, ..., </end>\". \n",
      "    Your answer:\n"
     ]
    }
   ],
   "source": [
    "questions = []\n",
    "for topic in result: \n",
    "    question = f\"\"\"Talk about the {topic} (no more then 7 sentences.). End your answer with </end>. No comments about the task. Just an answer. \n",
    "    For example if the topic is Moon, then your answer might be like \"The moon is, ..., </end>\". \n",
    "    Your answer:\"\"\"\n",
    "    questions.append(question)\n",
    "    \n",
    "print(questions[10])"
   ]
  },
  {
   "cell_type": "code",
   "execution_count": 5,
   "id": "57b0252e-d3cb-448e-b3b9-d10481588c26",
   "metadata": {
    "scrolled": true
   },
   "outputs": [
    {
     "name": "stdout",
     "output_type": "stream",
     "text": [
      "INFO 07-12 15:56:03 config.py:542] This model supports multiple tasks: {'embed', 'generate', 'classify', 'score', 'reward'}. Defaulting to 'generate'.\n",
      "WARNING 07-12 15:56:03 arg_utils.py:1135] Chunked prefill is enabled by default for models with max_model_len > 32K. Currently, chunked prefill might not work with some features or models. If you encounter any issues, please disable chunked prefill by setting --enable-chunked-prefill=False.\n",
      "INFO 07-12 15:56:03 config.py:1557] Chunked prefill is enabled with max_num_batched_tokens=2048.\n",
      "INFO 07-12 15:56:03 llm_engine.py:234] Initializing a V0 LLM engine (v0.7.2.dev56+gbf3b79ef) with config: model='meta-llama/Llama-3.1-8B-Instruct', speculative_config=None, tokenizer='meta-llama/Llama-3.1-8B-Instruct', skip_tokenizer_init=False, tokenizer_mode=auto, revision=None, override_neuron_config=None, tokenizer_revision=None, trust_remote_code=False, dtype=torch.bfloat16, max_seq_len=131072, download_dir=None, load_format=auto, tensor_parallel_size=1, pipeline_parallel_size=1, disable_custom_all_reduce=False, quantization=None, enforce_eager=False, kv_cache_dtype=auto,  device_config=cuda, decoding_config=DecodingConfig(guided_decoding_backend='xgrammar'), observability_config=ObservabilityConfig(otlp_traces_endpoint=None, collect_model_forward_time=False, collect_model_execute_time=False), seed=0, served_model_name=meta-llama/Llama-3.1-8B-Instruct, num_scheduler_steps=1, multi_step_stream_outputs=True, enable_prefix_caching=False, chunked_prefill_enabled=True, use_async_output_proc=True, disable_mm_preprocessor_cache=False, mm_processor_kwargs=None, pooler_config=None, compilation_config={\"splitting_ops\":[],\"compile_sizes\":[],\"cudagraph_capture_sizes\":[256,248,240,232,224,216,208,200,192,184,176,168,160,152,144,136,128,120,112,104,96,88,80,72,64,56,48,40,32,24,16,8,4,2,1],\"max_capture_size\":256}, use_cached_outputs=False, \n",
      "INFO 07-12 15:56:05 cuda.py:230] Using Flash Attention backend.\n",
      "INFO 07-12 15:56:05 model_runner.py:1110] Starting to load model meta-llama/Llama-3.1-8B-Instruct...\n",
      "INFO 07-12 15:56:06 weight_utils.py:252] Using model weights format ['*.safetensors']\n"
     ]
    },
    {
     "data": {
      "application/vnd.jupyter.widget-view+json": {
       "model_id": "1bf483aa84a844bb97de1ca00850b01f",
       "version_major": 2,
       "version_minor": 0
      },
      "text/plain": [
       "Loading safetensors checkpoint shards:   0% Completed | 0/4 [00:00<?, ?it/s]\n"
      ]
     },
     "metadata": {},
     "output_type": "display_data"
    },
    {
     "name": "stdout",
     "output_type": "stream",
     "text": [
      "INFO 07-12 15:56:09 model_runner.py:1115] Loading model weights took 14.9888 GB\n",
      "INFO 07-12 15:56:10 worker.py:267] Memory profiling takes 0.66 seconds\n",
      "INFO 07-12 15:56:10 worker.py:267] the current vLLM instance can use total_gpu_memory (79.11GiB) x gpu_memory_utilization (0.80) = 63.29GiB\n",
      "INFO 07-12 15:56:10 worker.py:267] model weights take 14.99GiB; non_torch_memory takes 0.15GiB; PyTorch activation peak memory takes 1.21GiB; the rest of the memory reserved for KV Cache is 46.94GiB.\n",
      "INFO 07-12 15:56:10 executor_base.py:110] # CUDA blocks: 24031, # CPU blocks: 2048\n",
      "INFO 07-12 15:56:10 executor_base.py:115] Maximum concurrency for 131072 tokens per request: 2.93x\n",
      "INFO 07-12 15:56:11 model_runner.py:1434] Capturing cudagraphs for decoding. This may lead to unexpected consequences if the model is not static. To run the model in eager mode, set 'enforce_eager=True' or use '--enforce-eager' in the CLI. If out-of-memory error occurs during cudagraph capture, consider decreasing `gpu_memory_utilization` or switching to eager mode. You can also reduce the `max_num_seqs` as needed to decrease memory usage.\n"
     ]
    },
    {
     "name": "stderr",
     "output_type": "stream",
     "text": [
      "Capturing CUDA graph shapes: 100%|████████████████████████████████████████████████████████████████████████████████████████| 35/35 [00:13<00:00,  2.60it/s]"
     ]
    },
    {
     "name": "stdout",
     "output_type": "stream",
     "text": [
      "INFO 07-12 15:56:25 model_runner.py:1562] Graph capturing finished in 13 secs, took 0.96 GiB\n",
      "INFO 07-12 15:56:25 llm_engine.py:431] init engine (profile, create kv cache, warmup model) took 16.08 seconds\n"
     ]
    },
    {
     "name": "stderr",
     "output_type": "stream",
     "text": [
      "\n"
     ]
    }
   ],
   "source": [
    "import torch\n",
    "\n",
    "model = LLM(model=\"meta-llama/Llama-3.1-8B-Instruct\", gpu_memory_utilization=0.8, dtype=torch.bfloat16)"
   ]
  },
  {
   "cell_type": "code",
   "execution_count": 6,
   "id": "c0951a5a-7a6d-421b-8db8-09aa5931d412",
   "metadata": {},
   "outputs": [],
   "source": [
    "import re\n",
    "\n",
    "def extract_complete_sentences(text):\n",
    "    \"\"\"\n",
    "    Extracts the complete sentences from the given text.\n",
    "    If the last sentence does not end with a sentence-ending punctuation,\n",
    "    it is omitted.\n",
    "    \"\"\"\n",
    "    # Strip extra whitespace and split text into sentences based on punctuation.\n",
    "    sentences = re.split(r'(?<=[.!?])\\s+', text.strip())\n",
    "    \n",
    "    # Check if the last sentence ends with a proper punctuation.\n",
    "    if sentences and not re.search(r'[.!?]$', sentences[-1]):\n",
    "        sentences = sentences[:-1]\n",
    "    \n",
    "    # Rejoin the remaining sentences.\n",
    "    return \" \".join(sentences)"
   ]
  },
  {
   "cell_type": "code",
   "execution_count": 7,
   "id": "7c6196e3-d758-48c5-bce5-db725c9bbfbc",
   "metadata": {},
   "outputs": [
    {
     "name": "stderr",
     "output_type": "stream",
     "text": [
      "Processed prompts: 100%|██████████████████████████████████████| 994/994 [00:28<00:00, 34.51it/s, est. speed input: 2202.86 toks/s, output: 5706.11 toks/s]\n",
      "Processed prompts: 100%|██████████████████████████████████████| 994/994 [00:28<00:00, 35.34it/s, est. speed input: 2256.03 toks/s, output: 5867.11 toks/s]\n",
      "Processed prompts: 100%|██████████████████████████████████████| 994/994 [00:27<00:00, 35.90it/s, est. speed input: 2292.10 toks/s, output: 5863.62 toks/s]\n",
      "Processed prompts: 100%|██████████████████████████████████████| 994/994 [00:27<00:00, 36.09it/s, est. speed input: 2303.85 toks/s, output: 5869.64 toks/s]\n",
      "Processed prompts: 100%|██████████████████████████████████████| 994/994 [00:28<00:00, 34.62it/s, est. speed input: 2210.25 toks/s, output: 5735.55 toks/s]\n",
      "Processed prompts: 100%|██████████████████████████████████████| 994/994 [00:28<00:00, 35.32it/s, est. speed input: 2254.41 toks/s, output: 5842.77 toks/s]\n",
      "Processed prompts: 100%|██████████████████████████████████████| 994/994 [00:27<00:00, 36.25it/s, est. speed input: 2314.31 toks/s, output: 6011.92 toks/s]\n",
      "Processed prompts: 100%|██████████████████████████████████████| 994/994 [00:27<00:00, 36.00it/s, est. speed input: 2297.93 toks/s, output: 5911.71 toks/s]\n",
      "Processed prompts: 100%|██████████████████████████████████████| 994/994 [00:27<00:00, 36.27it/s, est. speed input: 2315.64 toks/s, output: 6033.10 toks/s]\n",
      "Processed prompts: 100%|██████████████████████████████████████| 994/994 [00:27<00:00, 36.28it/s, est. speed input: 2316.32 toks/s, output: 6023.04 toks/s]\n",
      "Processed prompts: 100%|██████████████████████████████████████| 994/994 [00:27<00:00, 36.30it/s, est. speed input: 2317.19 toks/s, output: 6006.65 toks/s]\n",
      "Processed prompts: 100%|██████████████████████████████████████| 994/994 [00:28<00:00, 35.46it/s, est. speed input: 2263.47 toks/s, output: 5891.64 toks/s]\n",
      "Processed prompts: 100%|██████████████████████████████████████| 994/994 [00:28<00:00, 35.42it/s, est. speed input: 2261.32 toks/s, output: 5882.01 toks/s]\n",
      "Processed prompts: 100%|██████████████████████████████████████| 994/994 [00:27<00:00, 36.12it/s, est. speed input: 2305.49 toks/s, output: 5926.94 toks/s]\n",
      "Processed prompts: 100%|██████████████████████████████████████| 994/994 [00:27<00:00, 36.01it/s, est. speed input: 2298.46 toks/s, output: 5928.50 toks/s]\n",
      "Processed prompts: 100%|██████████████████████████████████████| 994/994 [00:28<00:00, 35.38it/s, est. speed input: 2258.69 toks/s, output: 5837.61 toks/s]\n",
      "Processed prompts: 100%|██████████████████████████████████████| 994/994 [00:28<00:00, 35.01it/s, est. speed input: 2235.01 toks/s, output: 5754.69 toks/s]\n",
      "Processed prompts: 100%|██████████████████████████████████████| 994/994 [00:29<00:00, 34.00it/s, est. speed input: 2170.76 toks/s, output: 5653.87 toks/s]\n",
      "Processed prompts: 100%|██████████████████████████████████████| 994/994 [00:29<00:00, 34.13it/s, est. speed input: 2178.91 toks/s, output: 5630.98 toks/s]\n",
      "Processed prompts: 100%|██████████████████████████████████████| 994/994 [00:28<00:00, 34.96it/s, est. speed input: 2231.55 toks/s, output: 5818.15 toks/s]\n"
     ]
    }
   ],
   "source": [
    "simpletalks_questions = []\n",
    "simpletalks_answers = []\n",
    "\n",
    "# repeat 20 times. so we get 20 answers to each of 994 themes.\n",
    "for k in range(0,20):\n",
    "    \n",
    "    outputs = model.generate(questions, sampling_params=sampling_params)\n",
    "    j = 0\n",
    "    \n",
    "    for question, output in zip(questions, outputs):\n",
    "    \n",
    "        topic = result[j]\n",
    "        simpletalks_questions.append(f\"Talk about the {topic}. No more then 7 sentences.\")\n",
    "        text = extract_complete_sentences(output.outputs[0].text)\n",
    "        simpletalks_answers.append(text)\n",
    "        \n",
    "        j += 1"
   ]
  },
  {
   "cell_type": "code",
   "execution_count": 8,
   "id": "63b37575-27a6-41e3-a107-cce94d990009",
   "metadata": {},
   "outputs": [
    {
     "data": {
      "application/vnd.jupyter.widget-view+json": {
       "model_id": "36975f4938a24b67becc58e1ceb070c2",
       "version_major": 2,
       "version_minor": 0
      },
      "text/plain": [
       "Uploading the dataset shards:   0%|          | 0/1 [00:00<?, ?it/s]"
      ]
     },
     "metadata": {},
     "output_type": "display_data"
    },
    {
     "data": {
      "application/vnd.jupyter.widget-view+json": {
       "model_id": "96ef202ed7ce4c4a90feb1a76d06e3c3",
       "version_major": 2,
       "version_minor": 0
      },
      "text/plain": [
       "Creating parquet from Arrow format:   0%|          | 0/20 [00:00<?, ?ba/s]"
      ]
     },
     "metadata": {},
     "output_type": "display_data"
    },
    {
     "data": {
      "application/vnd.jupyter.widget-view+json": {
       "model_id": "9457e81452cf49c0a58f17f818dbda9c",
       "version_major": 2,
       "version_minor": 0
      },
      "text/plain": [
       "  0%|          | 0/1 [00:00<?, ?it/s]"
      ]
     },
     "metadata": {},
     "output_type": "display_data"
    },
    {
     "data": {
      "application/vnd.jupyter.widget-view+json": {
       "model_id": "a59ac6f4c1894044867a91a31e0bd734",
       "version_major": 2,
       "version_minor": 0
      },
      "text/plain": [
       "README.md:   0%|          | 0.00/317 [00:00<?, ?B/s]"
      ]
     },
     "metadata": {},
     "output_type": "display_data"
    },
    {
     "data": {
      "text/plain": [
       "CommitInfo(commit_url='https://huggingface.co/datasets/ExplosionNuclear/new_simple_talks/commit/f509a51933f0493f51f72a13ccdb00422d468cf9', commit_message='Upload dataset', commit_description='', oid='f509a51933f0493f51f72a13ccdb00422d468cf9', pr_url=None, repo_url=RepoUrl('https://huggingface.co/datasets/ExplosionNuclear/new_simple_talks', endpoint='https://huggingface.co', repo_type='dataset', repo_id='ExplosionNuclear/new_simple_talks'), pr_revision=None, pr_num=None)"
      ]
     },
     "execution_count": 8,
     "metadata": {},
     "output_type": "execute_result"
    }
   ],
   "source": [
    "from datasets import Dataset\n",
    "\n",
    "data = {\"question\": simpletalks_questions, \"answer\": simpletalks_answers}\n",
    "\n",
    "dataset = Dataset.from_dict(data)\n",
    "dataset.push_to_hub(\"ExplosionNuclear/new_simple_talks\")"
   ]
  },
  {
   "cell_type": "code",
   "execution_count": null,
   "id": "ec23606c-abdd-4731-80ad-2fb402f6453b",
   "metadata": {},
   "outputs": [],
   "source": []
  }
 ],
 "metadata": {
  "kernelspec": {
   "display_name": "Python 3 (ipykernel)",
   "language": "python",
   "name": "python3"
  },
  "language_info": {
   "codemirror_mode": {
    "name": "ipython",
    "version": 3
   },
   "file_extension": ".py",
   "mimetype": "text/x-python",
   "name": "python",
   "nbconvert_exporter": "python",
   "pygments_lexer": "ipython3",
   "version": "3.10.12"
  }
 },
 "nbformat": 4,
 "nbformat_minor": 5
}
